{
 "cells": [
  {
   "cell_type": "code",
   "execution_count": 41,
   "metadata": {},
   "outputs": [
    {
     "data": {
      "text/plain": [
       "MyBigInt(:+, 1000, [1, 2, 3, 4, 5, 6, 7, 8, 9, 0, 0])"
      ]
     },
     "metadata": {},
     "output_type": "display_data"
    }
   ],
   "source": [
    "#| label: fig-1 \n",
    "struct MyBigInt\n",
    "    sign::Symbol\n",
    "    base::Int\n",
    "    digits::Vector{Int64}\n",
    "end\n",
    "\n",
    "p1 = MyBigInt(:+, 1000, Vector([1, 2, 3, 4, 5, 6, 7, 8, 9, 0, 0]))\n"
   ]
  },
  {
   "cell_type": "code",
   "execution_count": 44,
   "metadata": {},
   "outputs": [
    {
     "data": {
      "text/plain": [
       "1234567890"
      ]
     },
     "metadata": {},
     "output_type": "display_data"
    }
   ],
   "source": [
    "#| label: fig-2\n",
    "# example value in Julia's Base.BigInt\n",
    "n::BigInt = 1234567890 \n",
    "\n",
    "# some functions to test my implementation\n",
    "function to_base_big(n::MyBigInt)\n",
    "    ret::BigInt = 0\n",
    "    for i in 1:length(n.digits)\n",
    "        ret += BigInt(n.digits[i]) * n.base ^ (i - 1) \n",
    "    end\n",
    "    return ret\n",
    "end\n",
    "\n",
    "function from_base_big(n::BigInt; base::Int64 = 1000)\n",
    "    ret::MyBigInt = MyBigInt(:+, base, [])\n",
    "    while n > 0\n",
    "        push!(ret.digits, mod(n, ret.base))\n",
    "        n = div(n, ret.base)\n",
    "    end\n",
    "    return ret\n",
    "end\n",
    "\n",
    "# round trip test\n",
    "to_base_big(from_base_big(n))"
   ]
  },
  {
   "cell_type": "code",
   "execution_count": 38,
   "metadata": {},
   "outputs": [
    {
     "data": {
      "text/plain": [
       "1234567890"
      ]
     },
     "metadata": {},
     "output_type": "display_data"
    }
   ],
   "source": []
  },
  {
   "cell_type": "code",
   "execution_count": 39,
   "metadata": {},
   "outputs": [
    {
     "data": {
      "text/plain": [
       "1234567"
      ]
     },
     "metadata": {},
     "output_type": "display_data"
    }
   ],
   "source": [
    "div(n, 1000)"
   ]
  },
  {
   "cell_type": "code",
   "execution_count": 40,
   "metadata": {},
   "outputs": [
    {
     "data": {
      "text/plain": [
       "1234567890"
      ]
     },
     "metadata": {},
     "output_type": "display_data"
    }
   ],
   "source": []
  },
  {
   "cell_type": "code",
   "execution_count": 16,
   "metadata": {},
   "outputs": [
    {
     "data": {
      "text/plain": [
       "MyBigInt(:+, 1000, [890, 567, 234, 1])"
      ]
     },
     "metadata": {},
     "output_type": "display_data"
    }
   ],
   "source": [
    "from_base_big(n)"
   ]
  },
  {
   "cell_type": "code",
   "execution_count": 12,
   "metadata": {},
   "outputs": [
    {
     "ename": "ErrorException",
     "evalue": "type BigInt has no field digits",
     "output_type": "error",
     "traceback": [
      "type BigInt has no field digits\n",
      "\n",
      "Stacktrace:\n",
      " [1] getproperty\n",
      "   @ ./Base.jl:37 [inlined]\n",
      " [2] top-level scope\n",
      "   @ ~/code/maxasauruswall.github.io/notes/lamagna_CAS.ipynb:2"
     ]
    }
   ],
   "source": [
    "ret::BigInt = 0\n",
    "for i in 1:length(n.digits)\n",
    "    ret += BigInt(n.digits[end - i]) * n.base * (i - 1) \n",
    "end"
   ]
  },
  {
   "cell_type": "code",
   "execution_count": 10,
   "metadata": {},
   "outputs": [
    {
     "name": "stdout",
     "output_type": "stream",
     "text": [
      "10\n",
      "9\n",
      "8\n",
      "7\n",
      "6\n",
      "5\n",
      "4\n",
      "3\n",
      "2\n",
      "1\n"
     ]
    }
   ],
   "source": [
    "for i in 10:-1:1\n",
    "    println(i)\n",
    "end"
   ]
  },
  {
   "cell_type": "code",
   "execution_count": null,
   "metadata": {},
   "outputs": [],
   "source": []
  }
 ],
 "metadata": {
  "kernelspec": {
   "display_name": "Julia 1.10.0-beta1",
   "language": "julia",
   "name": "julia-1.10"
  },
  "language_info": {
   "file_extension": ".jl",
   "mimetype": "application/julia",
   "name": "julia",
   "version": "1.10.0-beta1"
  },
  "orig_nbformat": 4
 },
 "nbformat": 4,
 "nbformat_minor": 2
}
